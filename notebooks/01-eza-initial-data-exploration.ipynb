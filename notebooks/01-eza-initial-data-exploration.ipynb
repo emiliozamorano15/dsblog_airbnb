{
 "cells": [
  {
   "cell_type": "markdown",
   "metadata": {},
   "source": [
    "# Initial Exploration\n",
    "\n",
    "The data is comprised of Airbnb listings from Boston and Seattle. For each city a `calendar.csv`, a `listings.csv` and a `reviews.csv` is available. First we take a look at the general data structure from each of these files as an intial exploratory step.\n",
    "\n"
   ]
  },
  {
   "cell_type": "code",
   "execution_count": 2,
   "metadata": {},
   "outputs": [],
   "source": [
    "import pandas as pd\n",
    "import numpy as np\n",
    "import matplotlib.pyplot as plt\n",
    "import seaborn as sns\n",
    "import os\n",
    "\n",
    "%matplotlib inline\n",
    "\n"
   ]
  },
  {
   "cell_type": "code",
   "execution_count": 14,
   "metadata": {},
   "outputs": [],
   "source": [
    "path = \"C:\\\\Users\\\\zamorem\\\\Documents\\\\Python\\\\Python for Data Analysis\\\\Project 1 Write a Data Science Blog\\\\dsblog_arbnb\\data\\\\raw\\\\\"\n",
    "\n",
    "b_calendar = pd.read_csv(os.path.join(path, 'boston_calendar.csv'))\n",
    "b_listings = pd.read_csv(os.path.join(path, 'boston_listings.csv'))\n",
    "b_reviews = pd.read_csv(os.path.join(path, 'boston_reviews.csv'))\n",
    "s_calendar = pd.read_csv(os.path.join(path, 'seattle_calendar.csv'))\n",
    "s_listings = pd.read_csv(os.path.join(path, 'seattle_listings.csv'))\n",
    "s_reviews = pd.read_csv(os.path.join(path, 'seattle_reviews.csv'))\n"
   ]
  },
  {
   "cell_type": "code",
   "execution_count": 23,
   "metadata": {},
   "outputs": [],
   "source": [
    "## Join into single datasets but add a column for the city\n",
    "b_calendar['city'] = 'Boston'\n",
    "b_listings['city'] = 'Boston'\n",
    "b_reviews['city']  = 'Boston' \n",
    "s_calendar['city'] = 'Seattle'\n",
    "s_listings['city'] = 'Seattle'\n",
    "s_reviews['city']  = 'Seattle' \n",
    "\n",
    "calendar = b_calendar.append(s_calendar, sort = False)\n",
    "listings = b_listings.append(s_listings, sort = False)\n",
    "reviews = b_reviews.append(s_reviews, sort = False)"
   ]
  },
  {
   "cell_type": "markdown",
   "metadata": {},
   "source": [
    "Now that we have consolidated the datasets for both cities, we take a look at **calendar** first.\n"
   ]
  },
  {
   "cell_type": "code",
   "execution_count": 24,
   "metadata": {},
   "outputs": [
    {
     "name": "stdout",
     "output_type": "stream",
     "text": [
      "-- Data types\n",
      "listing_id     int64\n",
      "date          object\n",
      "available     object\n",
      "price         object\n",
      "city          object\n",
      "dtype: object\n",
      "-- Shape\n",
      "(2702460, 5)\n"
     ]
    }
   ],
   "source": [
    "print(\"-- Data types\")\n",
    "print(calendar.dtypes)\n",
    "print(\"-- Shape\")\n",
    "print(calendar.shape)\n"
   ]
  },
  {
   "cell_type": "code",
   "execution_count": 29,
   "metadata": {},
   "outputs": [
    {
     "data": {
      "text/plain": [
       "<bound method Series.unique of 0           Boston\n",
       "1           Boston\n",
       "2           Boston\n",
       "3           Boston\n",
       "4           Boston\n",
       "            ...   \n",
       "1393565    Seattle\n",
       "1393566    Seattle\n",
       "1393567    Seattle\n",
       "1393568    Seattle\n",
       "1393569    Seattle\n",
       "Name: city, Length: 2702460, dtype: object>"
      ]
     },
     "execution_count": 29,
     "metadata": {},
     "output_type": "execute_result"
    }
   ],
   "source": []
  },
  {
   "cell_type": "code",
   "execution_count": 31,
   "metadata": {},
   "outputs": [
    {
     "name": "stdout",
     "output_type": "stream",
     "text": [
      "-- NAs\n",
      "listing_id    0.000000\n",
      "date          0.000000\n",
      "available     0.000000\n",
      "price         0.416243\n",
      "city          0.000000\n",
      "dtype: float64\n",
      "/n\n"
     ]
    },
    {
     "data": {
      "text/plain": [
       "city\n",
       "Boston     665853\n",
       "Seattle    459028\n",
       "Name: price, dtype: int64"
      ]
     },
     "execution_count": 31,
     "metadata": {},
     "output_type": "execute_result"
    }
   ],
   "source": [
    "print(\"-- NAs\")\n",
    "print(calendar.isnull().sum()/calendar.shape[0])\n",
    "\n",
    "print(\"/n\")\n",
    "calendar.groupby(['city'])['price'].apply(lambda _df: _df.isnull().sum())\n",
    "# df.groupby('a')['b', 'c'].apply(lambda _df: _df.isna().sum())"
   ]
  },
  {
   "cell_type": "code",
   "execution_count": 13,
   "metadata": {},
   "outputs": [],
   "source": [
    "## Reformat the dates column\n",
    "b_calendar['date'] = pd.to_datetime(b_calendar[\"date\"]).head()\n"
   ]
  },
  {
   "cell_type": "code",
   "execution_count": 16,
   "metadata": {},
   "outputs": [
    {
     "name": "stdout",
     "output_type": "stream",
     "text": [
      "-- Data types\n",
      "listing_id     int64\n",
      "date          object\n",
      "available     object\n",
      "price         object\n",
      "dtype: object\n",
      "-- Shape\n",
      "(1393570, 4)\n",
      "-- NAs\n",
      "listing_id    0.0000\n",
      "date          0.0000\n",
      "available     0.0000\n",
      "price         0.3507\n",
      "dtype: float64\n"
     ]
    }
   ],
   "source": []
  },
  {
   "cell_type": "code",
   "execution_count": null,
   "metadata": {},
   "outputs": [],
   "source": []
  }
 ],
 "metadata": {
  "kernelspec": {
   "display_name": "Python 3",
   "language": "python",
   "name": "python3"
  },
  "language_info": {
   "codemirror_mode": {
    "name": "ipython",
    "version": 3
   },
   "file_extension": ".py",
   "mimetype": "text/x-python",
   "name": "python",
   "nbconvert_exporter": "python",
   "pygments_lexer": "ipython3",
   "version": "3.7.4"
  }
 },
 "nbformat": 4,
 "nbformat_minor": 2
}
